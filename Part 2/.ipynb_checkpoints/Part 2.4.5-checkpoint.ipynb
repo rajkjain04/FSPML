{
 "cells": [
  {
   "cell_type": "code",
   "execution_count": 1,
   "metadata": {},
   "outputs": [
    {
     "name": "stderr",
     "output_type": "stream",
     "text": [
      "<ipython-input-1-0718f4c76ed5>:34: DeprecationWarning: The default dtype for empty Series will be 'object' instead of 'float64' in a future version. Specify a dtype explicitly to silence this warning.\n",
      "  market_return = pd.Series(index=ri.index)\n",
      "<ipython-input-1-0718f4c76ed5>:35: DeprecationWarning: The default dtype for empty Series will be 'object' instead of 'float64' in a future version. Specify a dtype explicitly to silence this warning.\n",
      "  simp_return = pd.Series(index=ri.index)\n",
      "<ipython-input-1-0718f4c76ed5>:36: DeprecationWarning: The default dtype for empty Series will be 'object' instead of 'float64' in a future version. Specify a dtype explicitly to silence this warning.\n",
      "  a = pd.Series(index=ri.index)\n"
     ]
    },
    {
     "ename": "NameError",
     "evalue": "name 'r' is not defined",
     "output_type": "error",
     "traceback": [
      "\u001b[0;31m---------------------------------------------------------------------------\u001b[0m",
      "\u001b[0;31mNameError\u001b[0m                                 Traceback (most recent call last)",
      "\u001b[0;32m<ipython-input-1-0718f4c76ed5>\u001b[0m in \u001b[0;36m<module>\u001b[0;34m\u001b[0m\n\u001b[1;32m     44\u001b[0m     \u001b[0mones\u001b[0m \u001b[0;34m=\u001b[0m \u001b[0mnp\u001b[0m\u001b[0;34m.\u001b[0m\u001b[0mones\u001b[0m\u001b[0;34m(\u001b[0m\u001b[0;34m(\u001b[0m\u001b[0mxs\u001b[0m\u001b[0;34m.\u001b[0m\u001b[0mshape\u001b[0m\u001b[0;34m)\u001b[0m\u001b[0;34m)\u001b[0m\u001b[0;34m\u001b[0m\u001b[0;34m\u001b[0m\u001b[0m\n\u001b[1;32m     45\u001b[0m     \u001b[0mX\u001b[0m \u001b[0;34m=\u001b[0m \u001b[0mnp\u001b[0m\u001b[0;34m.\u001b[0m\u001b[0mhstack\u001b[0m\u001b[0;34m(\u001b[0m\u001b[0;34m(\u001b[0m\u001b[0mones\u001b[0m\u001b[0;34m,\u001b[0m\u001b[0mbm_loc\u001b[0m\u001b[0;34m,\u001b[0m\u001b[0mxs\u001b[0m\u001b[0;34m)\u001b[0m\u001b[0;34m)\u001b[0m\u001b[0;34m\u001b[0m\u001b[0;34m\u001b[0m\u001b[0m\n\u001b[0;32m---> 46\u001b[0;31m     \u001b[0mb\u001b[0m \u001b[0;34m=\u001b[0m \u001b[0mnp\u001b[0m\u001b[0;34m.\u001b[0m\u001b[0mlinalg\u001b[0m\u001b[0;34m.\u001b[0m\u001b[0minv\u001b[0m\u001b[0;34m(\u001b[0m\u001b[0mX\u001b[0m\u001b[0;34m.\u001b[0m\u001b[0mT\u001b[0m\u001b[0;34m.\u001b[0m\u001b[0mdot\u001b[0m\u001b[0;34m(\u001b[0m\u001b[0mX\u001b[0m\u001b[0;34m)\u001b[0m\u001b[0;34m)\u001b[0m\u001b[0;34m.\u001b[0m\u001b[0mdot\u001b[0m\u001b[0;34m(\u001b[0m\u001b[0mX\u001b[0m\u001b[0;34m.\u001b[0m\u001b[0mT\u001b[0m\u001b[0;34m)\u001b[0m\u001b[0;34m.\u001b[0m\u001b[0mdot\u001b[0m\u001b[0;34m(\u001b[0m\u001b[0mr\u001b[0m\u001b[0;34m)\u001b[0m\u001b[0;34m\u001b[0m\u001b[0;34m\u001b[0m\u001b[0m\n\u001b[0m\u001b[1;32m     47\u001b[0m     \u001b[0ma\u001b[0m\u001b[0;34m[\u001b[0m\u001b[0mt\u001b[0m\u001b[0;34m]\u001b[0m \u001b[0;34m=\u001b[0m \u001b[0mfloat\u001b[0m\u001b[0;34m(\u001b[0m\u001b[0mb\u001b[0m\u001b[0;34m[\u001b[0m\u001b[0;36m0\u001b[0m\u001b[0;34m]\u001b[0m\u001b[0;34m)\u001b[0m\u001b[0;34m\u001b[0m\u001b[0;34m\u001b[0m\u001b[0m\n\u001b[1;32m     48\u001b[0m     \u001b[0mmarket_return\u001b[0m\u001b[0;34m[\u001b[0m\u001b[0mt\u001b[0m\u001b[0;34m]\u001b[0m \u001b[0;34m=\u001b[0m \u001b[0mfloat\u001b[0m\u001b[0;34m(\u001b[0m\u001b[0mb\u001b[0m\u001b[0;34m[\u001b[0m\u001b[0;36m1\u001b[0m\u001b[0;34m]\u001b[0m\u001b[0;34m)\u001b[0m\u001b[0;34m\u001b[0m\u001b[0;34m\u001b[0m\u001b[0m\n",
      "\u001b[0;31mNameError\u001b[0m: name 'r' is not defined"
     ]
    }
   ],
   "source": [
    "import pandas as pd \n",
    "import numpy as np\n",
    "import matplotlib.pyplot as plt\n",
    "df = pd.read_csv('fsp_case_31_BSD.csv', index_col=0,header=[0 ,1]) \n",
    "simp_return = df['ret'].copy().dropna(1)\n",
    "simp_return.index = pd.to_datetime(simp_return.index)\n",
    "simp_return = simp_return.sort_index()\n",
    "market_non_weighted_return = simp_return.mean(1)\n",
    "\n",
    "market_cap = df['mcap'].copy() \n",
    "market_cap.index = pd.to_datetime(market_cap.index) \n",
    "market_cap = market_cap[simp_return.columns] \n",
    "\n",
    "ws = market_cap.divide(market_cap.sum(1), 0)\n",
    "\n",
    "weighted_returns = ws*simp_return.copy()\n",
    "market_return_w = weighted_returns.sum(1)\n",
    "\n",
    "weighted_returns = simp_return.copy()\n",
    "weighted_returns['market'] = market_return_w.copy()\n",
    "weighted_beta_w = pd.DataFrame(columns=weighted_returns.columns) \n",
    "w = 22 \n",
    "for t in weighted_returns.index[w-1:]: \n",
    "    \n",
    "    covariance_returns = weighted_returns[:t].iloc[-w:].cov() \n",
    "    betas = covariance_returns['market']/covariance_returns['market']['market'] \n",
    "    weighted_beta_w.loc[t] = betas \n",
    "\n",
    "ri = simp_return.copy() \n",
    "ri = ri.loc[weighted_beta_w.index]\n",
    "bm = weighted_beta_w.iloc[:, :-1] \n",
    "bs = np.log(market_cap.loc[weighted_beta_w.index])\n",
    "\n",
    "market_return = pd.Series(index=ri.index)\n",
    "simp_return = pd.Series(index=ri.index)\n",
    "a = pd.Series(index=ri.index)\n",
    "e = pd.DataFrame(index=ri.index, columns=ri.columns)\n",
    "\n",
    "for t in ri.index:\n",
    "    \n",
    "    ret = ri.loc[t].values.reshape(-1,1)\n",
    "    bm_loc = bm.loc[t].values.reshape(-1,1)\n",
    "    xs = bs.loc[t].values.reshape(-1,1)\n",
    "    ones = np.ones((xs.shape))\n",
    "    X = np.hstack((ones,bm_loc,xs))\n",
    "    b = np.linalg.inv(X.T.dot(X)).dot(X.T).dot(ret)\n",
    "    a[t] = float(b[0])\n",
    "    market_return[t] = float(b[1])\n",
    "    simp_return[t] = float(b[2])\n",
    "    e.loc[t] = (r-X.dot(b)).reshape(1,-1)"
   ]
  },
  {
   "cell_type": "code",
   "execution_count": null,
   "metadata": {},
   "outputs": [],
   "source": [
    "market_return.plot(color = 'blue')\n",
    "\n",
    "plt.title('Market Returns per Day', fontname=\"arial\", fontsize=16, fontweight=\"bold\")\n",
    "plt.xlabel('Date', fontname=\"arial\", fontsize=16)\n",
    "plt.ylabel('Market Returns', fontname=\"arial\", fontsize=16)\n",
    "plt.xticks(fontname=\"arial\", fontsize=14)\n",
    "plt.yticks(fontname=\"arial\", fontsize=14)\n",
    "\n",
    "plt.grid(which='major', linestyle='-', linewidth='0.5', color='#666666')\n",
    "plt.minorticks_on()\n",
    "plt.grid(b=True, which='minor', color='#999999', linestyle='-', alpha=0.2)\n",
    "\n",
    "fig = plt.gcf()\n",
    "fig.set_size_inches(8, 6)\n",
    "\n",
    "plt.savefig('2_4_5a1.pdf')"
   ]
  },
  {
   "cell_type": "code",
   "execution_count": null,
   "metadata": {},
   "outputs": [],
   "source": [
    "simp_return.plot(color = 'red')\n",
    "\n",
    "plt.title('Size Returns per Day', fontname=\"arial\", fontsize=16, fontweight=\"bold\")\n",
    "plt.xlabel('Date', fontname=\"arial\", fontsize=16)\n",
    "plt.ylabel('Size Returns', fontname=\"arial\", fontsize=16)\n",
    "plt.xticks(fontname=\"arial\", fontsize=14)\n",
    "plt.yticks(fontname=\"arial\", fontsize=14)\n",
    "\n",
    "plt.grid(which='major', linestyle='-', linewidth='0.5', color='#666666')\n",
    "plt.minorticks_on()\n",
    "plt.grid(b=True, which='minor', color='#999999', linestyle='-', alpha=0.2)\n",
    "\n",
    "fig = plt.gcf()\n",
    "fig.set_size_inches(8, 6)\n",
    "\n",
    "plt.savefig('2_4_5a2.pdf')"
   ]
  },
  {
   "cell_type": "code",
   "execution_count": null,
   "metadata": {},
   "outputs": [],
   "source": [
    "a.plot(color = 'green')\n",
    "\n",
    "plt.title('a per Day', fontname=\"arial\", fontsize=16, fontweight=\"bold\")\n",
    "plt.xlabel('Date', fontname=\"arial\", fontsize=16)\n",
    "plt.ylabel('a', fontname=\"arial\", fontsize=16)\n",
    "plt.xticks(fontname=\"arial\", fontsize=14)\n",
    "plt.yticks(fontname=\"arial\", fontsize=14)\n",
    "\n",
    "plt.grid(which='major', linestyle='-', linewidth='0.5', color='#666666')\n",
    "plt.minorticks_on()\n",
    "plt.grid(b=True, which='minor', color='#999999', linestyle='-', alpha=0.2)\n",
    "\n",
    "fig = plt.gcf()\n",
    "fig.set_size_inches(8, 6)\n",
    "plt.savefig('2_4_5a3.pdf')"
   ]
  },
  {
   "cell_type": "code",
   "execution_count": null,
   "metadata": {},
   "outputs": [],
   "source": [
    "for company in e.columns:\n",
    "    plt.scatter(e[company], ri[company])\n",
    "\n",
    "plt.title('Scatter Plot between Return per Company and Specific Return', fontname=\"arial\", fontsize=16, fontweight=\"bold\")\n",
    "plt.xlabel('Specfic Return (Residual of Regression)', fontname=\"arial\", fontsize=16)\n",
    "plt.ylabel('Company Return', fontname=\"arial\", fontsize=16)\n",
    "plt.xticks(fontname=\"arial\", fontsize=14)\n",
    "plt.yticks(fontname=\"arial\", fontsize=14)\n",
    "\n",
    "plt.grid(which='major', linestyle='-', linewidth='0.5', color='#666666')\n",
    "plt.minorticks_on()\n",
    "plt.grid(b=True, which='minor', color='#999999', linestyle='-', alpha=0.2)\n",
    "\n",
    "fig = plt.gcf()\n",
    "fig.set_size_inches(8, 6)\n",
    "plt.savefig('2_4_5c1.pdf')"
   ]
  },
  {
   "cell_type": "code",
   "execution_count": null,
   "metadata": {},
   "outputs": [],
   "source": [
    "R = pd.DataFrame(columns=['market_return', 'simp_return'])\n",
    "R['market_return']=market_return\n",
    "R['simp_return']=simp_return\n",
    "\n",
    "R_covs = []\n",
    "w = 3\n",
    "\n",
    "covr = R.cov()\n",
    "covr\n",
    "# covr.to_csv(r'2_4_5cov.csv')\n"
   ]
  },
  {
   "cell_type": "code",
   "execution_count": null,
   "metadata": {},
   "outputs": [],
   "source": [
    "eigvals, eigvecs = np.linalg.eigh(e.astype(float).cov())\n",
    "ser = pd.Series(eigvals[::-1]/eigvals.sum())\n",
    "\n",
    "ser.plot(color = 'blue')\n",
    "\n",
    "plt.title('Variance Explained by Principal Components Analysis', fontname=\"arial\", fontsize=16, fontweight=\"bold\")\n",
    "plt.xlabel('(Ordered) Eigenvector Index', fontname=\"arial\", fontsize=16)\n",
    "plt.ylabel('Variance', fontname=\"arial\", fontsize=16)\n",
    "plt.xticks(fontname=\"arial\", fontsize=14)\n",
    "plt.yticks(fontname=\"arial\", fontsize=14)\n",
    "\n",
    "plt.grid(which='major', linestyle='-', linewidth='0.5', color='#666666')\n",
    "plt.minorticks_on()\n",
    "plt.grid(b=True, which='minor', color='#999999', linestyle='-', alpha=0.2)\n",
    "\n",
    "fig = plt.gcf()\n",
    "fig.set_size_inches(8, 6)\n",
    "plt.savefig('2_4_5e1.pdf')\n"
   ]
  },
  {
   "cell_type": "code",
   "execution_count": null,
   "metadata": {},
   "outputs": [],
   "source": []
  }
 ],
 "metadata": {
  "kernelspec": {
   "display_name": "Python 3",
   "language": "python",
   "name": "python3"
  },
  "language_info": {
   "codemirror_mode": {
    "name": "ipython",
    "version": 3
   },
   "file_extension": ".py",
   "mimetype": "text/x-python",
   "name": "python",
   "nbconvert_exporter": "python",
   "pygments_lexer": "ipython3",
   "version": "3.8.5"
  }
 },
 "nbformat": 4,
 "nbformat_minor": 4
}
